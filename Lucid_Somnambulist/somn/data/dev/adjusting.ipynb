{
 "cells": [
  {
   "cell_type": "code",
   "execution_count": 3,
   "metadata": {},
   "outputs": [
    {
     "name": "stdout",
     "output_type": "stream",
     "text": [
      "['1', '10', '11', '12', '13', '14', '15', '16', '17', '18', '19', '2', '20', '21', '22', '23', '24', '25', '26', '27', '28', '29', '3', '30', '31', '32', '33', '34', '35', '36', '37', '38', '39', '4', '40', '41', '42', '43', '44', '45', '46', '47', '48', '49', '5', '50', '6', '7', '8', '9', '1001', '1002', '1003', '1004', '1005', '1006', '1007', '1008', '1009', '1010', '1011']\n",
      "61\n",
      "['1', '10', '11', '12', '13', '14', '15', '16', '17', '18', '19', '2', '20', '21', '22', '23', '24', '25', '26', '27', '28', '29', '3', '30', '31', '32', '33', '34', '35', '36', '37', '38', '39', '4', '40', '41', '42', '43', '44', '45', '46', '47', '48', '49', '5', '50', '6', '7', '8', '9', '2001', '2002', '2003', '2004', '2005', '2006', '2007', '2008', '2009', '2010', '2011', '2012', '2013', '2014', '2015']\n",
      "65\n"
     ]
    }
   ],
   "source": [
    "import molli as ml\n",
    "\n",
    "col = ml.Collection.from_zip(r\"/mnt/c/Users/rineharn/code/Lucid_Somnambulist/Lucid_Somnambulist/somn/data/amines_all_f.zip\")\n",
    "print([f.name for f in col.molecules])\n",
    "print(len(col.molecules))\n",
    "\n",
    "col2 = ml.Collection.from_zip(r\"/mnt/c/Users/rineharn/code/Lucid_Somnambulist/Lucid_Somnambulist/somn/data/bromides_all_f.zip\")\n",
    "print([f.name for f in col2.molecules])\n",
    "print(len(col2.molecules))"
   ]
  },
  {
   "cell_type": "code",
   "execution_count": 8,
   "metadata": {},
   "outputs": [
    {
     "name": "stdout",
     "output_type": "stream",
     "text": [
      "61\n",
      "65\n"
     ]
    }
   ],
   "source": [
    "import json\n",
    "\n",
    "with open(r\"/mnt/c/Users/rineharn/code/Lucid_Somnambulist/Lucid_Somnambulist/somn/data/amine_atomprops.json\",'r') as g:\n",
    "    a = json.load(g)\n",
    "\n",
    "print(len(a.keys()))\n",
    "\n",
    "with open(r\"/mnt/c/Users/rineharn/code/Lucid_Somnambulist/Lucid_Somnambulist/somn/data/bromide_atomprops.json\",'r') as g:\n",
    "    b = json.load(g)\n",
    "\n",
    "print(len(b.keys()))"
   ]
  },
  {
   "cell_type": "code",
   "execution_count": 4,
   "metadata": {},
   "outputs": [
    {
     "name": "stdout",
     "output_type": "stream",
     "text": [
      "Index(['1000171-05-0', '1185899-00-6', '10', '8', 'AdCyBrettPhos',\n",
      "       'AdJohnPhos', '14', '16', '17', 'CyBippyPhos', '18', 'DavePhos',\n",
      "       'EPhos', '5', '19', '1', '9', 'MePhos', 'PhCPhos', '3', '6',\n",
      "       'PhenCarPhosCy', 'PhenCarPhosEt', 'PhenCarPhosPh', 'PhenCarPhosiPr',\n",
      "       'PhtBuCPhos', '7', '20', 'RuPhos_Hybrid', '21', 'TrippyPhos',\n",
      "       'TrixiePhos', 'VPhos', '2', 'XPhosSO3Na', '11', 'cataCXiumPICy', '12',\n",
      "       'cataCXiumPIntB', '13', 'cataCXiumPOMetB', 'cataCXiumPtBu',\n",
      "       'mmCF3PhCPhos', '4', 'sSPhos', 'tBuBippyPhos', 'tBuDavePhos',\n",
      "       'tBuMePhos', 'tBuSPhos', 'tBuXPhos'],\n",
      "      dtype='object', name=0)\n",
      "Int64Index([   1,    2,    3,    4,    5,    6,    7,    8,    9,   10,\n",
      "            ...\n",
      "            6525, 6526, 6527, 6528, 6529, 6530, 6531, 6532, 6533, 6534],\n",
      "           dtype='int64', length=6534)\n"
     ]
    }
   ],
   "source": [
    "import pandas as pd\n",
    "\n",
    "catalyst = pd.read_csv(r\"/mnt/c/Users/rineharn/code/Lucid_Somnambulist/Lucid_Somnambulist/somn/data/cat_aso_aeif_combined.csv\",header=None,index_col=0)\n",
    "# print(catalyst.transpose().reset_index(drop=True).transpose())\n",
    "\n",
    "# catalyst.transpose().reset_index(drop=True).to_feather(\"catalyst_descriptors.feather\")\n",
    "# catalyst.to_hdf(\"catalyst_descriptors.hdf5\",mode='w',key='core')\n",
    "\n",
    "# print(catalyst.index)\n",
    "# print(catalyst.columns)\n",
    "\n",
    "# s = pd.Series(catalyst.columns.to_list())\n",
    "# s.to_hdf('testing_cols.hdf5',key='t',mode='w')"
   ]
  },
  {
   "cell_type": "code",
   "execution_count": 17,
   "metadata": {},
   "outputs": [],
   "source": [
    "dataset = pd.read_csv(r\"/mnt/c/Users/rineharn/code/Lucid_Somnambulist/Lucid_Somnambulist/somn/data/dataset.csv\",index_col=0,header=None)\n",
    "dataset.index.name = 'reaction_handles'\n",
    "dataset.columns = ['yield']\n",
    "# print(dataset)\n",
    "\n",
    "# print(type(dataset))\n",
    "\n",
    "dataset.to_hdf('dataset_yields.hdf5',mode='w',key='core')\n",
    "### Series unnecessary. \n",
    "# ser = pd.Series(dataset['yield'],index=dataset.index)\n",
    "# print(ser,type(ser))\n",
    "# ser.to_hdf('testing_dataset_series.hdf5',mode='w',key='test')"
   ]
  },
  {
   "cell_type": "code",
   "execution_count": 22,
   "metadata": {},
   "outputs": [
    {
     "name": "stdout",
     "output_type": "stream",
     "text": [
      "         1   2         3         4         5         6         7         8   \\\n",
      "0                                                                             \n",
      "a  0.506853   0  0.577350  0.512148  0.037641  1.123406  1.050733  1.154565   \n",
      "b  0.645086   1  0.577350  0.640184  0.980648  0.792937  0.110673  0.561972   \n",
      "c  1.151939   1  1.154701  1.152332  1.018289  0.330468  0.940059  0.592594   \n",
      "\n",
      "         9         10  ...        17        18        19        20        21  \\\n",
      "0                      ...                                                     \n",
      "a  0.107064  1.009386  ...  0.235665  0.300318  0.577350  0.447159  0.604412   \n",
      "b  1.049224  0.019045  ...  1.096784  0.815428  0.577350  0.698395  0.549858   \n",
      "c  0.942160  0.990342  ...  0.861119  1.115745  1.154701  1.145554  1.154271   \n",
      "\n",
      "         22        23        24        25        26  \n",
      "0                                                    \n",
      "a  0.360496  1.116061  0.605849  1.133330  1.154701  \n",
      "b  0.769769  0.814557  0.548374  0.375162  0.577350  \n",
      "c  1.130265  0.301504  1.154224  0.758167  0.577350  \n",
      "\n",
      "[3 rows x 26 columns]\n"
     ]
    }
   ],
   "source": [
    "solv = pd.read_csv(r\"/mnt/c/Users/rineharn/code/Lucid_Somnambulist/Lucid_Somnambulist/somn/data/solvent_params.csv\",index_col=0,header=None)\n",
    "base = pd.read_csv(r\"/mnt/c/Users/rineharn/code/Lucid_Somnambulist/Lucid_Somnambulist/somn/data/base_params.csv\",index_col=0,header=None)\n",
    "\n",
    "solv.to_hdf('reagents.hdf5',mode='w',key='solv')\n",
    "base.to_hdf('reagents.hdf5',mode='a',key='base')\n",
    "\n",
    "# tes = pd.read_hdf('testing_reag.hdf5',key='base')\n",
    "# print(tes)"
   ]
  }
 ],
 "metadata": {
  "kernelspec": {
   "display_name": "somn_dev",
   "language": "python",
   "name": "python3"
  },
  "language_info": {
   "codemirror_mode": {
    "name": "ipython",
    "version": 3
   },
   "file_extension": ".py",
   "mimetype": "text/x-python",
   "name": "python",
   "nbconvert_exporter": "python",
   "pygments_lexer": "ipython3",
   "version": "3.10.9"
  },
  "orig_nbformat": 4
 },
 "nbformat": 4,
 "nbformat_minor": 2
}

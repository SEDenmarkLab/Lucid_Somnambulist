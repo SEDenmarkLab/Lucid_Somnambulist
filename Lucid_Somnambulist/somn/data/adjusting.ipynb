{
 "cells": [
  {
   "cell_type": "code",
   "execution_count": 3,
   "metadata": {},
   "outputs": [
    {
     "name": "stdout",
     "output_type": "stream",
     "text": [
      "['1', '10', '11', '12', '13', '14', '15', '16', '17', '18', '19', '2', '20', '21', '22', '23', '24', '25', '26', '27', '28', '29', '3', '30', '31', '32', '33', '34', '35', '36', '37', '38', '39', '4', '40', '41', '42', '43', '44', '45', '46', '47', '48', '49', '5', '50', '6', '7', '8', '9', '1001', '1002', '1003', '1004', '1005', '1006', '1007', '1008', '1009', '1010', '1011']\n",
      "61\n",
      "['1', '10', '11', '12', '13', '14', '15', '16', '17', '18', '19', '2', '20', '21', '22', '23', '24', '25', '26', '27', '28', '29', '3', '30', '31', '32', '33', '34', '35', '36', '37', '38', '39', '4', '40', '41', '42', '43', '44', '45', '46', '47', '48', '49', '5', '50', '6', '7', '8', '9', '2001', '2002', '2003', '2004', '2005', '2006', '2007', '2008', '2009', '2010', '2011', '2012', '2013', '2014', '2015']\n",
      "65\n"
     ]
    }
   ],
   "source": [
    "import molli as ml\n",
    "\n",
    "col = ml.Collection.from_zip(r\"/mnt/c/Users/rineharn/code/Lucid_Somnambulist/Lucid_Somnambulist/somn/data/amines_all_f.zip\")\n",
    "print([f.name for f in col.molecules])\n",
    "print(len(col.molecules))\n",
    "\n",
    "col2 = ml.Collection.from_zip(r\"/mnt/c/Users/rineharn/code/Lucid_Somnambulist/Lucid_Somnambulist/somn/data/bromides_all_f.zip\")\n",
    "print([f.name for f in col2.molecules])\n",
    "print(len(col2.molecules))"
   ]
  }
 ],
 "metadata": {
  "kernelspec": {
   "display_name": "somn_dev",
   "language": "python",
   "name": "python3"
  },
  "language_info": {
   "codemirror_mode": {
    "name": "ipython",
    "version": 3
   },
   "file_extension": ".py",
   "mimetype": "text/x-python",
   "name": "python",
   "nbconvert_exporter": "python",
   "pygments_lexer": "ipython3",
   "version": "3.10.9"
  },
  "orig_nbformat": 4
 },
 "nbformat": 4,
 "nbformat_minor": 2
}
